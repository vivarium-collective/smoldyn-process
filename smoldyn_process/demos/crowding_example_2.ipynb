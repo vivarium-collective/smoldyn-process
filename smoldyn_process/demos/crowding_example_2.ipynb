{
 "cells": [
  {
   "cell_type": "markdown",
   "source": [
    "## Crowding4 example using the Python API only (no model file)\n",
    "\n",
    "### This notebook serves as a representation of the `bigraph_process.Process` API implementation: `SmoldynProcess`.\n",
    "\n",
    "#### This example uses the Smoldyn model: `crowding4.txt` found in this repo at `../examples/model_files/crowding_model.txt` to test/validate the `SmoldynProcess` object."
   ],
   "metadata": {
    "collapsed": false
   },
   "id": "8e46ebd1916fb3e7"
  },
  {
   "cell_type": "code",
   "execution_count": 1,
   "id": "initial_id",
   "metadata": {
    "collapsed": true,
    "ExecuteTime": {
     "end_time": "2023-11-27T19:16:42.472861Z",
     "start_time": "2023-11-27T19:16:42.470091Z"
    }
   },
   "outputs": [],
   "source": []
  }
 ],
 "metadata": {
  "kernelspec": {
   "display_name": "Python 3",
   "language": "python",
   "name": "python3"
  },
  "language_info": {
   "codemirror_mode": {
    "name": "ipython",
    "version": 2
   },
   "file_extension": ".py",
   "mimetype": "text/x-python",
   "name": "python",
   "nbconvert_exporter": "python",
   "pygments_lexer": "ipython2",
   "version": "2.7.6"
  }
 },
 "nbformat": 4,
 "nbformat_minor": 5
}
