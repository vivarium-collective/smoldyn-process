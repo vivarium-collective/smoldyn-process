{
 "cells": [
  {
   "cell_type": "markdown",
   "source": [
    "## Crowding4 example\n",
    "\n",
    "### This notebook serves as a representation of the `bigraph_process.Process` API implementation: `SmoldynProcess`.\n",
    "\n",
    "#### This example uses the Smoldyn model: `crowding4.txt` found in this repo at `../examples/model_files/crowding_model.txt` to test/validate the `SmoldynProcess` object."
   ],
   "metadata": {
    "collapsed": false
   },
   "id": "6aaa6374decc08aa"
  },
  {
   "cell_type": "markdown",
   "source": [
    "#### Allow this notebook repo access:"
   ],
   "metadata": {
    "collapsed": false
   },
   "id": "4fb42001f63a9d7f"
  },
  {
   "cell_type": "code",
   "execution_count": 1,
   "outputs": [],
   "source": [
    "import sys\n",
    "sys.path.append(\n",
    "    '/Users/alex/Desktop/uchc_work/repos/smoldyn-process/smoldyn_process'\n",
    ")"
   ],
   "metadata": {
    "collapsed": false,
    "ExecuteTime": {
     "end_time": "2023-11-24T22:22:27.254752Z",
     "start_time": "2023-11-24T22:22:27.252423Z"
    }
   },
   "id": "8d2dd832f40ed3ee"
  },
  {
   "cell_type": "code",
   "execution_count": 2,
   "outputs": [],
   "source": [
    "from typing import *\n",
    "import numpy as np\n",
    "import smoldyn as sm\n",
    "from process_bigraph import Process, Composite, process_registry, types\n",
    "from smoldyn_process.sed2 import pf\n",
    "from smoldyn_process.utils import query_model, model_definitions, list_model, get_reactions"
   ],
   "metadata": {
    "collapsed": false,
    "ExecuteTime": {
     "end_time": "2023-11-24T22:22:28.581954Z",
     "start_time": "2023-11-24T22:22:27.896198Z"
    }
   },
   "id": "f34e6d1ee5e6319"
  },
  {
   "cell_type": "code",
   "execution_count": 3,
   "outputs": [],
   "source": [
    "class SmoldynProcess(Process):\n",
    "    \"\"\"Smoldyn-based implementation of bi-graph process' `Process` API.\"\"\"\n",
    "\n",
    "    config_schema = {\n",
    "        'model_filepath': 'string',\n",
    "        'species': 'dict',\n",
    "        'animate': 'boolean'\n",
    "    }\n",
    "\n",
    "    def __init__(self, config: Dict = None):\n",
    "        super().__init__(config)\n",
    "\n",
    "        # specify the model fp for clarity\n",
    "        self.model_filepath = self.config.get('model_filepath')\n",
    "\n",
    "        # enforce model filepath passing\n",
    "        if not self.model_filepath:\n",
    "            raise ValueError('The config requires a path to a Smoldyn model file.')\n",
    "\n",
    "        # initialize the simulator from a Smoldyn model.txt file.\n",
    "        self.simulation: sm.Simulation = sm.Simulation.fromFile(self.model_filepath)\n",
    "\n",
    "        \"\"\"# query the model file to ensure that the appropriate Smoldyn output commands are present\n",
    "        if not query_model(self.model_filepath, 'cmd'):\n",
    "            self.simulation.addOutputData('executiontime')\n",
    "            self.simulation.addCommand(cmd=f'0 {self.simulation.stop} 2 executiontime', cmd_type='i')\n",
    "            self.simulation.addOutputData('listmols')\n",
    "            self.simulation.addCommand(cmd=f'0 {self.simulation.stop} 2 listmols', cmd_type='i')\n",
    "        \"\"\"\n",
    "\n",
    "        # get the species names\n",
    "        species_count = self.simulation.count()['species']\n",
    "        self.species: List[str] = []\n",
    "        for index in range(species_count):\n",
    "            species_name = self.simulation.getSpeciesName(index)\n",
    "            self.species.append(species_name)\n",
    "\n",
    "        # get the simulation boundaries, which in the case of Smoldyn denote the physical boundaries\n",
    "        # TODO: add a verification method to ensure that the boundaries do not change on the next step\n",
    "        self.boundaries = self.simulation.getBoundaries()\n",
    "\n",
    "        # set graphics (defaults to False)\n",
    "        if self.config['animate']:\n",
    "            self.simulation.addGraphics('opengl_better')\n",
    "\n",
    "    def initial_state(self):\n",
    "        \"\"\"NOTE: Due to the nature of this model, Smoldyn assigns a random uniform distribution of\n",
    "            integers as the initial coordinate (x, y, z) values for the simulation.\n",
    "\n",
    "\n",
    "            Args:\n",
    "                config:`Dict`: configuration by which to read the relevant values at initialization\n",
    "                    of simulation. Defaults to `None`.\n",
    "        \"\"\"\n",
    "        # create species dict of coordinates and initialize to None\n",
    "\n",
    "        state = {\n",
    "            'molecules': {}\n",
    "        }\n",
    "        return state\n",
    "\n",
    "    def set_uniform(self, name, config):\n",
    "        self.simulation.runCommand(f'killmol {name}')\n",
    "        self.simulation.addSolutionMolecules(\n",
    "            name,\n",
    "            config.get('counts'),\n",
    "            highpos=config.get('high'),\n",
    "            lowpos=config.get('low'))\n",
    "\n",
    "    def schema(self):\n",
    "        tuple_type = {'_type': 'tuple', '_apply': 'set'}\n",
    "        return {\n",
    "            'molecules': {\n",
    "                mol_name: {\n",
    "                    'coordinates': tuple_type,\n",
    "                    'velocity': tuple_type,  # QUESTION: could the expected shape be: ((0,0), (1,4)) where: ((xStart, xStop), (yStart, yStop)) ie directional?\n",
    "                    'mol_type': {'_type': 'string', '_apply': 'set'},\n",
    "                    'counts': 'int'\n",
    "                } for mol_name in self.species\n",
    "            }\n",
    "        }\n",
    "\n",
    "    def update(self, state, interval) -> Dict:\n",
    "        molecules = state['molecules']\n",
    "        for mol_name, mol_state in molecules.items():\n",
    "            self.set_uniform(mol_name, mol_state)\n",
    "\n",
    "        # run the simulation for a given interval\n",
    "        self.simulation.run(\n",
    "            stop=interval,\n",
    "            dt=self.simulation.dt\n",
    "        )\n",
    "\n",
    "        # get the data, clear the buffer\n",
    "        data = self.simulation.getOutputData('listmols', True)\n",
    "\n",
    "        # get the final counts for the update\n",
    "        final_counts = data[-1]\n",
    "        molecules = {}\n",
    "        for index, name in enumerate(self.species, 1):\n",
    "            molecules[name] = int(final_counts[index]) - state['molecules'][name]\n",
    "        return {'molecules': molecules}"
   ],
   "metadata": {
    "collapsed": false,
    "ExecuteTime": {
     "end_time": "2023-11-24T22:22:28.588479Z",
     "start_time": "2023-11-24T22:22:28.586600Z"
    }
   },
   "id": "52f8d679b7ce1cd4"
  },
  {
   "cell_type": "code",
   "execution_count": 4,
   "outputs": [],
   "source": [
    "# register the process\n",
    "process_registry.register('smoldyn_process', SmoldynProcess)"
   ],
   "metadata": {
    "collapsed": false,
    "ExecuteTime": {
     "end_time": "2023-11-24T22:22:29.223016Z",
     "start_time": "2023-11-24T22:22:29.217809Z"
    }
   },
   "id": "d093a1345514354"
  },
  {
   "cell_type": "markdown",
   "source": [
    "#### Test the process instance"
   ],
   "metadata": {
    "collapsed": false
   },
   "id": "e6066fb33ab1d397"
  },
  {
   "cell_type": "code",
   "execution_count": 5,
   "outputs": [],
   "source": [
    "def test_process():\n",
    "    \"\"\"Test the smoldyn process using the crowding model.\"\"\"\n",
    "\n",
    "    # this is the instance for the composite process to run\n",
    "    instance = {\n",
    "        'smoldyn': {\n",
    "            '_type': 'process',\n",
    "            'address': 'local:smoldyn_process',\n",
    "            'config': {\n",
    "                'model_filepath': 'crowding_model.txt',\n",
    "                'animate': False,\n",
    "            },\n",
    "            'wires': {\n",
    "                'molecules': ['molecules_store'],\n",
    "            }\n",
    "        },\n",
    "        'emitter': {\n",
    "            '_type': 'step',\n",
    "            'address': 'local:ram-emitter',\n",
    "            'config': {\n",
    "                'ports': {\n",
    "                    'inputs': {\n",
    "                        'molecules': 'dict'\n",
    "                    }\n",
    "                }\n",
    "            },\n",
    "            'wires': {\n",
    "                'inputs': {\n",
    "                    'molecules': ['molecules_store'],\n",
    "                }\n",
    "            }\n",
    "        }\n",
    "    }\n",
    "\n",
    "    # make the composite\n",
    "    workflow = Composite({\n",
    "        'state': instance\n",
    "    })\n",
    "\n",
    "    # run\n",
    "    workflow.run(10)\n",
    "\n",
    "    # gather results\n",
    "    results = workflow.gather_results()\n",
    "    print(f'RESULTS: {pf(results)}')"
   ],
   "metadata": {
    "collapsed": false,
    "ExecuteTime": {
     "end_time": "2023-11-24T22:22:30.205060Z",
     "start_time": "2023-11-24T22:22:30.202445Z"
    }
   },
   "id": "443d04098ee85049"
  },
  {
   "cell_type": "code",
   "execution_count": null,
   "outputs": [],
   "source": [
    "if __name__ == '__main__':\n",
    "    test_process()"
   ],
   "metadata": {
    "collapsed": false,
    "is_executing": true,
    "ExecuteTime": {
     "start_time": "2023-11-24T22:22:30.748816Z"
    }
   },
   "id": "2dcef06702ceeab1"
  },
  {
   "cell_type": "code",
   "execution_count": null,
   "outputs": [],
   "source": [],
   "metadata": {
    "collapsed": false,
    "ExecuteTime": {
     "end_time": "2023-11-24T22:22:46.493922Z",
     "start_time": "2023-11-24T22:22:46.487443Z"
    }
   },
   "id": "cf7c9aca3cb072dd"
  },
  {
   "cell_type": "code",
   "execution_count": null,
   "outputs": [],
   "source": [],
   "metadata": {
    "collapsed": false
   },
   "id": "35852537e25d2091"
  }
 ],
 "metadata": {
  "kernelspec": {
   "display_name": "Python 3",
   "language": "python",
   "name": "python3"
  },
  "language_info": {
   "codemirror_mode": {
    "name": "ipython",
    "version": 2
   },
   "file_extension": ".py",
   "mimetype": "text/x-python",
   "name": "python",
   "nbconvert_exporter": "python",
   "pygments_lexer": "ipython2",
   "version": "2.7.6"
  }
 },
 "nbformat": 4,
 "nbformat_minor": 5
}
